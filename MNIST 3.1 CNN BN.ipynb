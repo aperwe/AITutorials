{
 "cells": [
  {
   "cell_type": "code",
   "execution_count": null,
   "metadata": {},
   "outputs": [],
   "source": [
    "from functools import partial\n",
    "import numpy as np\n",
    "import tensorflow as tf\n",
    "import math"
   ]
  },
  {
   "cell_type": "code",
   "execution_count": null,
   "metadata": {},
   "outputs": [],
   "source": [
    "#Import training data\n",
    "from tensorflow.examples.tutorials.mnist import input_data\n",
    "mnist = input_data.read_data_sets('mnist_data', one_hot=True, reshape=False)"
   ]
  },
  {
   "cell_type": "code",
   "execution_count": null,
   "metadata": {},
   "outputs": [],
   "source": [
    "#Create variables\n",
    "x = tf.placeholder(tf.float32, [None, 28, 28, 1], name='InputData')\n",
    "y = tf.placeholder(tf.float32, [None, 10], name='LabelData')\n",
    "# step for variable learning rate\n",
    "step = tf.placeholder(tf.int32)\n",
    "drop_rate = tf.placeholder(tf.float32)\n",
    "batch_momentum = 0.9\n",
    "training = tf.placeholder_with_default(False, shape=(), name=\"training\") # for BN"
   ]
  },
  {
   "cell_type": "code",
   "execution_count": null,
   "metadata": {},
   "outputs": [],
   "source": [
    "# Create partial bn function\n",
    "batch_normalization_layer = partial(tf.layers.batch_normalization, training = training, momentum = 0.9)"
   ]
  },
  {
   "cell_type": "code",
   "execution_count": null,
   "metadata": {},
   "outputs": [],
   "source": [
    "# Convolutional Layer #1\n",
    "conv1 = tf.layers.conv2d(inputs = x, filters = 32, kernel_size = [5, 5], padding = \"same\", activation = None)\n",
    "conv1_bn = batch_normalization_layer(conv1)\n",
    "conv1_bn_relu = tf.nn.relu(conv1_bn)\n",
    "\n",
    "# Pooling Layer #1\n",
    "pool1 = tf.layers.max_pooling2d(inputs = conv1_bn_relu, pool_size = [2, 2], strides = 2)"
   ]
  },
  {
   "cell_type": "code",
   "execution_count": null,
   "metadata": {},
   "outputs": [],
   "source": [
    "# Convolutional Layer #2\n",
    "conv2 = tf.layers.conv2d(inputs = pool1, filters = 64, kernel_size = [5, 5], padding = \"same\", activation = None)\n",
    "conv2_bn = batch_normalization_layer(conv2)\n",
    "conv2_bn_relu = tf.nn.relu(conv2_bn)\n",
    "\n",
    "# Pooling Layer #2\n",
    "pool2 = tf.layers.max_pooling2d(inputs = conv2_bn_relu, pool_size = [2, 2], strides = 2)"
   ]
  },
  {
   "cell_type": "code",
   "execution_count": null,
   "metadata": {},
   "outputs": [],
   "source": [
    "# Dense Layer\n",
    "pool2_flat = tf.reshape(pool2, [-1, 7 * 7 * 64])\n",
    "dense = tf.layers.dense(inputs = pool2_flat, units = 1024, activation = tf.nn.relu)\n",
    "dropout = tf.layers.dropout(inputs = dense, rate = drop_rate)"
   ]
  },
  {
   "cell_type": "code",
   "execution_count": null,
   "metadata": {},
   "outputs": [],
   "source": [
    "# Logits Layer\n",
    "Y = tf.layers.dense(inputs = dropout, units = 10)\n",
    "Ys = tf.nn.softmax(Y)"
   ]
  },
  {
   "cell_type": "code",
   "execution_count": null,
   "metadata": {},
   "outputs": [],
   "source": [
    "cross_entropy = tf.nn.softmax_cross_entropy_with_logits(logits=Y, labels=y)\n",
    "cross_entropy = tf.reduce_mean(cross_entropy) * 100.0\n",
    "\n",
    "lr = 0.0001 +  tf.train.exponential_decay(0.003, step, 2000, 1/math.e)\n",
    "\n",
    "optimizer = tf.train.AdamOptimizer(lr)\n",
    "extra_update_ops = tf.get_collection(tf.GraphKeys.UPDATE_OPS)\n",
    "tf.control_dependencies(extra_update_ops)\n",
    "train_step = optimizer.minimize(cross_entropy)\n",
    "\n",
    "# Accuracy\n",
    "acc = tf.equal(tf.argmax(Y, 1), tf.argmax(y, 1))\n",
    "acc = tf.reduce_mean(tf.cast(acc, tf.float32))"
   ]
  },
  {
   "cell_type": "code",
   "execution_count": null,
   "metadata": {},
   "outputs": [],
   "source": [
    "epochs = 1000\n",
    "batch_size = 200\n",
    "init = tf.global_variables_initializer()\n",
    "\n",
    "with tf.Session() as sess:\n",
    "    init.run()\n",
    "    for epoch in range(epochs):\n",
    "        n_batches = mnist.train.num_examples // batch_size\n",
    "        for iteration in range(n_batches):\n",
    "            batch_xs, batch_ys = mnist.train.next_batch(batch_size)\n",
    "            sess.run(train_step, feed_dict={x: batch_xs, y: batch_ys, drop_rate: 0.75, step: iteration * epoch + 1, training:True})\n",
    "            if iteration % 100 == 0:\n",
    "                print(\"Epoka: \" + str(epoch) + \"  Iteracja: \" + str(iteration))\n",
    "                print(acc.eval(feed_dict={x: mnist.test.images, y: mnist.test.labels, drop_rate:1.0}))\n",
    "\n",
    "\n",
    "#sess = tf.InteractiveSession()\n",
    "#tf.global_variables_initializer().run()\n",
    "\n",
    "#for i in range(10000):\n",
    "#    batch_xs, batch_ys = mnist.train.next_batch(batch_size)\n",
    "#    train_data = {x: batch_xs, y: batch_ys, drop_rate: 0.5, step: i}\n",
    "#    sess.run(train_step, feed_dict=train_data)\n",
    "\n",
    "#print(acc.eval(feed_dict={x: mnist.test.images, y: mnist.test.labels, drop_rate:1.0}))"
   ]
  },
  {
   "cell_type": "code",
   "execution_count": null,
   "metadata": {},
   "outputs": [],
   "source": []
  }
 ],
 "metadata": {
  "kernelspec": {
   "display_name": "Python 3",
   "language": "python",
   "name": "python3"
  },
  "language_info": {
   "codemirror_mode": {
    "name": "ipython",
    "version": 3
   },
   "file_extension": ".py",
   "mimetype": "text/x-python",
   "name": "python",
   "nbconvert_exporter": "python",
   "pygments_lexer": "ipython3",
   "version": "3.6.5"
  }
 },
 "nbformat": 4,
 "nbformat_minor": 2
}
